{
 "cells": [
  {
   "cell_type": "code",
   "execution_count": 1,
   "id": "e68f1d61-5c82-44c0-8317-a72507c54d24",
   "metadata": {},
   "outputs": [],
   "source": [
    "# !pip install azure-search-documents==11.4.0b8\n",
    "# !pip install azure-search\n",
    "# !pip install langchain=0.0.348\n",
    "# !pip install openai=0.28"
   ]
  },
  {
   "cell_type": "markdown",
   "id": "c6d43b1b-8793-4a3e-bf64-91d3af2c9d6a",
   "metadata": {},
   "source": [
    "# Azure AI Search LangChain vector code sample\r\n",
    "This code demonstrates how to use Azure AI Search with OpenAI and the langchain.vectorstores.azuresearch`` module. To run the code, install the following packages, including th 'eazure-search-documents==11.4.0b'` packaged, as noted in LangChain docs."
   ]
  },
  {
   "cell_type": "markdown",
   "id": "07792072-fca0-4ca8-b8d1-6a1754a14af7",
   "metadata": {},
   "source": [
    "## imports and env variables"
   ]
  },
  {
   "cell_type": "code",
   "execution_count": 2,
   "id": "46304c81-0454-4e82-b322-08bc00772d11",
   "metadata": {},
   "outputs": [],
   "source": [
    "import os\n",
    "import openai\n",
    "# from langchain_community.vectorstores.azuresearch import AzureSearch\n",
    "from langchain.vectorstores.azuresearch import AzureSearch\n",
    "from langchain.embeddings.openai import OpenAIEmbeddings\n",
    "from dotenv import load_dotenv"
   ]
  },
  {
   "cell_type": "code",
   "execution_count": 3,
   "id": "b58110c3-7e49-4f26-8586-07db0193f7d1",
   "metadata": {},
   "outputs": [
    {
     "data": {
      "text/plain": [
       "True"
      ]
     },
     "execution_count": 3,
     "metadata": {},
     "output_type": "execute_result"
    }
   ],
   "source": [
    "# Set environment variables\n",
    "load_dotenv()"
   ]
  },
  {
   "cell_type": "code",
   "execution_count": 4,
   "id": "e0bcb589-f8e9-4b5e-b029-91bff0423e40",
   "metadata": {},
   "outputs": [],
   "source": [
    "openai.api_key = os.getenv(\"api_key\")\n",
    "openai.api_base = os.getenv(\"api_base\")\n",
    "openai.api_type = os.getenv(\"api_type\")\n",
    "openai.api_version = os.getenv(\"api_version\")\n",
    "deployment_id = os.getenv(\"deployment_id_gpt_4\")\n",
    "gpt_model = os.getenv(\"deployment_id_gpt_4\")\n",
    "model_engine = os.getenv(\"deployment_id_gpt_4\")\n",
    "embd_model = 'text-embedding-ada-002'\n",
    "\n",
    "os.environ.update({\n",
    "    \"OPENAI_API_TYPE\": os.getenv(\"api_type\"),\n",
    "    \"OPENAI_API_VERSION\": os.getenv(\"api_version\"),\n",
    "    \"OPENAI_API_BASE\": os.getenv(\"api_base\"),\n",
    "    \"OPENAI_API_KEY\": os.getenv(\"api_key\")\n",
    "})\n",
    "model: str = \"text-embedding-ada-002\""
   ]
  },
  {
   "cell_type": "markdown",
   "id": "f778c75c-9bac-405a-b447-9e91339b2da7",
   "metadata": {},
   "source": [
    "## Configure vector store settings"
   ]
  },
  {
   "cell_type": "code",
   "execution_count": 5,
   "id": "19eec7fc-0825-470f-8c2c-78b52a37fbba",
   "metadata": {},
   "outputs": [],
   "source": [
    "service_name = os.getenv(\"AZURE_AI_SEARCH_SERVICE_NAME\")\n",
    "key = os.getenv(\"AZURE_AI_SEARCH_KEY\")\n",
    "endpoint = \"https://{}.search.windows.net/\".format(service_name)\n",
    "\n",
    "vector_store_address: str = endpoint\n",
    "vector_store_password: str = key"
   ]
  },
  {
   "cell_type": "code",
   "execution_count": 6,
   "id": "0c20cada-18f3-409a-8aa1-850d2419fb48",
   "metadata": {},
   "outputs": [],
   "source": [
    "from azure.search.documents.indexes.models import (\n",
    "    SemanticSettings,\n",
    "    SemanticConfiguration,\n",
    "    PrioritizedFields,\n",
    "    SemanticField\n",
    ")"
   ]
  },
  {
   "cell_type": "markdown",
   "id": "e71b33f4-f8f5-4c51-a06d-7368dfa40144",
   "metadata": {},
   "source": [
    "### Create embeddings and vector store instances\r\n",
    "Read your data, generate OpenAI embeddings and export to a format to insert your search index:"
   ]
  },
  {
   "cell_type": "code",
   "execution_count": 7,
   "id": "d36773fb-4c42-46a4-8859-94bc72dacf5b",
   "metadata": {},
   "outputs": [],
   "source": [
    "embeddings = OpenAIEmbeddings(openai_api_key=openai.api_key, deployment=embd_model)\n",
    "\n",
    "index_name: str = \"vector-idx-test\"\n",
    "\n",
    "\n",
    "vector_store: AzureSearch = AzureSearch(\n",
    "    azure_search_endpoint=vector_store_address,\n",
    "    azure_search_key=vector_store_password,\n",
    "    index_name=index_name,\n",
    "    embedding_function=embeddings.embed_query,\n",
    "    semantic_configuration_name='config',\n",
    "        semantic_settings=SemanticSettings(\n",
    "            default_configuration='config',\n",
    "            configurations=[\n",
    "                SemanticConfiguration(\n",
    "                    name='config',\n",
    "                    prioritized_fields=PrioritizedFields(\n",
    "                        title_field=SemanticField(field_name='content'),\n",
    "                        prioritized_content_fields=[SemanticField(field_name='content')],\n",
    "                        prioritized_keywords_fields=[SemanticField(field_name='metadata')]\n",
    "                    ))\n",
    "            ])\n",
    "    )"
   ]
  },
  {
   "cell_type": "markdown",
   "id": "8644fba2-3618-4930-98f2-cec793179a9d",
   "metadata": {},
   "source": [
    "### Insert text and embeddings into vector store"
   ]
  },
  {
   "cell_type": "code",
   "execution_count": 8,
   "id": "b3999ece-47e3-42d9-9428-d5de23f462ac",
   "metadata": {},
   "outputs": [
    {
     "data": {
      "text/plain": [
       "['MDBiNDQ5NTUtMzNmYS00ZDdjLTg3NWEtMjMyMGRmMzJjN2Iw',\n",
       " 'NjRiNzlhZjUtZWRiMi00MzVmLWIyODItNzEyYWNiZTFhYzU2',\n",
       " 'M2EwZDYzMDUtOTFmMC00M2I3LWFjNTQtNDcxYzM3NDY0ZWI0',\n",
       " 'ZmUxOTM5ZjktODlkMS00OTFmLWI1NmMtOTc0NTg5MmY5NjEz',\n",
       " 'ZDNiOTNkY2QtMTRlMC00YzAwLTgxZWEtMmY0NTYyN2I2MDFh',\n",
       " 'NTg1YjFiOWEtM2M5OC00NDliLTk5ZjEtOTllZjJmNzBiNDhk',\n",
       " 'MTM0YmNlMWEtZDRiMy00ZDdjLWEwYmUtYjMzMjY5MzM4ZWYw',\n",
       " 'OGViZTlhZDQtY2RjNi00Y2I1LWE5ZTItOTJmY2U3YjgxM2Uw',\n",
       " 'ZjEwNTZjODMtMzI3Zi00ZGNhLTlmODktZTc1NzM4NDI0NGIz',\n",
       " 'ZWZmZTUxMDUtNmI3Ny00ZGNlLThiM2UtYTQ1NjAwMTA4NDBl',\n",
       " 'OWI2OTFjOGMtMGRlZC00YjY2LTg3MTktMjk4ZjU4Nzg2NmY2',\n",
       " 'YWQyOTZhNmUtMTQxYi00NjI1LTk0YzYtOWJkODRiNGJiNjQ5',\n",
       " 'OTQ0OTNhNDMtMzczNi00OGU0LTllODUtZGE3MzAzMzZhNzI2',\n",
       " 'NTMyMmE1OTgtN2E4NS00YTMyLTg2NDgtOTE5MTQxMGZlNmFl',\n",
       " 'NmRiOWUwZmYtZjEwZS00MDcyLTk4MjMtM2RhZmQ5YmYzZTBh',\n",
       " 'ZDNkMzJiM2YtMDViNy00OTBlLThmZmUtMDIzZDk3ZDBlOGIx',\n",
       " 'NTBlNzA1OTAtNmExMi00MTM2LWEzNjAtNzQ1OTU0ZDA4MjVk',\n",
       " 'OTYxNWExOTYtZmE5Zi00MjBmLWEwNmItMTYzYjlmMDYyZTVh',\n",
       " 'M2M1OTIxMzgtMjExOC00M2UxLTg1YzEtMDFmNTM3MzIyOTA3',\n",
       " 'NDY1ZGRiOGQtNjFiNS00OTMzLWIyZGItMTMyZDQ3NmQ5OTU2',\n",
       " 'M2Q0OWZiNDctMTQ4NC00YmJhLWE0NTMtNGJlNjEyOWRkZDdj',\n",
       " 'YTdmZDBiOWUtYmQ3NC00NWJiLTg2NDAtNjVhYTgxMDg1MzAz',\n",
       " 'NDIzMmE0MDMtMGMzNC00MTM1LTkzYTAtYWQ2MTI2NmZhNzNj',\n",
       " 'ZGU3OTkxY2EtYzcxMS00ODI4LWIxOTMtN2RkMDA4ZTZkYzBm',\n",
       " 'NGY4MDhhYzMtZTRhMC00MjNhLWJkMWMtYzFmZjQ5MDhlMzZl',\n",
       " 'YzcxYmM1OTEtYzdhNy00YmUxLTlmMWMtZWYxNmI5OTZmYWNi',\n",
       " 'ZTdhMjEwMGEtODk4NS00ZWU0LWI1MjYtY2Q1ZjZkZThjNmI2',\n",
       " 'NTBmMmEyYTItODc0Mi00NWE4LWIzMjctMmZmNTA1NmEzY2I1',\n",
       " 'YmFiMGYyMjgtM2JlZC00OTJmLWE3NWYtMjlkOGVkNjM3Yjg3',\n",
       " 'NjJmY2FjYzMtNGZmYS00ZTQ2LWEwYzEtM2M5M2JmYWIxM2Iw',\n",
       " 'NmUwZGU0NmUtNjdhMy00YmRiLWJiMmEtZWZmZmE0YmFjZThh',\n",
       " 'NDA1MWY5Y2QtOWI2ZC00MDBiLWIxNGYtNzY4YmYyOWIxYzJj',\n",
       " 'MWJhNTUwNDQtMWE0Yy00YzAxLWJkNDUtN2YyZTVkMTBiY2Y2',\n",
       " 'YTVkZjQ0NWUtYTljYi00NTJjLTljNzktY2M3YjkwMmNjY2Yz',\n",
       " 'YTk0MDdjMzQtNGI2Yi00OThiLTgxYTgtYThjMTA4MDdmZjJm',\n",
       " 'NzRiN2JmNzYtYWU1Zi00YTZlLWIxMTYtMWUxMDA1N2JhNWE0',\n",
       " 'OGNhZTljYjItOTE3NS00NTEzLTlkMTUtNDkyMThhZTMxMjk5',\n",
       " 'ZDkxNzYzZWEtNmIzYS00ZmJhLTg0M2QtMzRiODNmNjQ0OGYz',\n",
       " 'NjA2YTQ5YTAtOTFjYy00NzhiLTg4NjgtNjAxMzdhYzlkNWNl',\n",
       " 'MjczMGRhMjQtZWU5NC00YTY4LTgzZDktMDU1NzYzNDM4Nzhi',\n",
       " 'YmNmZDc2ZmUtOWY3ZC00ZThkLWE5YWQtOTJjYWU0MGRlOWY1',\n",
       " 'NTEzMDBkNzktMjg5Yy00YjQxLWFhYzItYzg5ODZiZDc4ZDFh']"
      ]
     },
     "execution_count": 8,
     "metadata": {},
     "output_type": "execute_result"
    }
   ],
   "source": [
    "from langchain.document_loaders import TextLoader\n",
    "from langchain.text_splitter import CharacterTextSplitter\n",
    "\n",
    "loader = TextLoader(\"state_of_the_union.txt\", encoding=\"utf-8\")\n",
    "\n",
    "documents = loader.load()\n",
    "text_splitter = CharacterTextSplitter(chunk_size=1000, chunk_overlap=0)\n",
    "docs = text_splitter.split_documents(documents)\n",
    "\n",
    "vector_store.add_documents(documents=docs)"
   ]
  },
  {
   "cell_type": "markdown",
   "id": "6029b66b-aa5d-4405-aa50-073cad88c15b",
   "metadata": {},
   "source": [
    "### Perform a vector similarity search "
   ]
  },
  {
   "cell_type": "code",
   "execution_count": 9,
   "id": "47c873bb-4bb2-4e0b-8efe-f1ea25b874ec",
   "metadata": {},
   "outputs": [
    {
     "name": "stdout",
     "output_type": "stream",
     "text": [
      "Tonight. I call on the Senate to: Pass the Freedom to Vote Act. Pass the John Lewis Voting Rights Act. And while you’re at it, pass the Disclose Act so Americans can know who is funding our elections. \n",
      "\n",
      "Tonight, I’d like to honor someone who has dedicated his life to serve this country: Justice Stephen Breyer—an Army veteran, Constitutional scholar, and retiring Justice of the United States Supreme Court. Justice Breyer, thank you for your service. \n",
      "\n",
      "One of the most serious constitutional responsibilities a President has is nominating someone to serve on the United States Supreme Court. \n",
      "\n",
      "And I did that 4 days ago, when I nominated Circuit Court of Appeals Judge Ketanji Brown Jackson. One of our nation’s top legal minds, who will continue Justice Breyer’s legacy of excellence.\n"
     ]
    }
   ],
   "source": [
    "# Perform a similarity search\n",
    "docs = vector_store.similarity_search(\n",
    "    query=\"What did the president say about Ketanji Brown Jackson\",\n",
    "    k=3,\n",
    "    search_type=\"similarity\",\n",
    ")\n",
    "print(docs[0].page_content)"
   ]
  },
  {
   "cell_type": "markdown",
   "id": "7e4b238e-d53f-49fd-ae80-f857d09e473a",
   "metadata": {},
   "source": [
    "### Perform a hybrid search"
   ]
  },
  {
   "cell_type": "code",
   "execution_count": 10,
   "id": "9491467e-1c3e-4148-b7d7-97753cf51420",
   "metadata": {},
   "outputs": [
    {
     "name": "stdout",
     "output_type": "stream",
     "text": [
      "Tonight. I call on the Senate to: Pass the Freedom to Vote Act. Pass the John Lewis Voting Rights Act. And while you’re at it, pass the Disclose Act so Americans can know who is funding our elections. \n",
      "\n",
      "Tonight, I’d like to honor someone who has dedicated his life to serve this country: Justice Stephen Breyer—an Army veteran, Constitutional scholar, and retiring Justice of the United States Supreme Court. Justice Breyer, thank you for your service. \n",
      "\n",
      "One of the most serious constitutional responsibilities a President has is nominating someone to serve on the United States Supreme Court. \n",
      "\n",
      "And I did that 4 days ago, when I nominated Circuit Court of Appeals Judge Ketanji Brown Jackson. One of our nation’s top legal minds, who will continue Justice Breyer’s legacy of excellence.\n"
     ]
    }
   ],
   "source": [
    "# Perform a hybrid search\n",
    "docs = vector_store.similarity_search(\n",
    "    query=\"What did the president say about Ketanji Brown Jackson\",\n",
    "    k=3, \n",
    "    search_type=\"hybrid\"\n",
    ")\n",
    "print(docs[0].page_content)"
   ]
  },
  {
   "cell_type": "markdown",
   "id": "99edd364-65dd-433a-b045-b5aa57db6124",
   "metadata": {},
   "source": [
    "### Perform a hybrid search with semantic reranking (powered by Bing)\n",
    "Semantic ranking enhances the quality of search results for text-based queries. By enabling semantic ranking on your search service, you can improve the relevance of search results in two ways:\r\n",
    "\r\n",
    "It applies secondary ranking to the initial result set, promoting the most semantically relevant results to the top.\r\n",
    "It extracts and returns captions and answers in the response, which can be displayed on a search page to enhance the user's search experience."
   ]
  },
  {
   "cell_type": "code",
   "execution_count": 11,
   "id": "7d8c23dc-83ae-49e1-9f54-0b1f991f55c2",
   "metadata": {},
   "outputs": [
    {
     "name": "stdout",
     "output_type": "stream",
     "text": [
      "--------------------------------------------------------------------------------\n",
      "Content: Tonight. I call on the Senate to: Pass the Freedom to Vote Act. Pass the John Lewis Voting Rights Act. And while you’re at it, pass the Disclose Act so Americans can know who is funding our elections. \n",
      "\n",
      "Tonight, I’d like to honor someone who has dedicated his life to serve this country: Justice Stephen Breyer—an Army veteran, Constitutional scholar, and retiring Justice of the United States Supreme Court. Justice Breyer, thank you for your service. \n",
      "\n",
      "One of the most serious constitutional responsibilities a President has is nominating someone to serve on the United States Supreme Court. \n",
      "\n",
      "And I did that 4 days ago, when I nominated Circuit Court of Appeals Judge Ketanji Brown Jackson. One of our nation’s top legal minds, who will continue Justice Breyer’s legacy of excellence.\n",
      "Score: 0.03333333507180214\n",
      "Caption: And I did that 4 days ago, when I nominated Circuit Court of Appeals Judge<em> Ketanji Brown Jackson.</em> One of our nation’s top legal minds, who will continue Justice Breyer’s legacy of excellence.. {\"source\": \"state_of_the_union.txt\"}. Tonight. I call on the Senate to: Pass the Freedom to Vote Act. Pass the John Lewis Voting Rights Act.\n",
      "--------------------------------------------------------------------------------\n",
      "Content: Tonight. I call on the Senate to: Pass the Freedom to Vote Act. Pass the John Lewis Voting Rights Act. And while you’re at it, pass the Disclose Act so Americans can know who is funding our elections. \n",
      "\n",
      "Tonight, I’d like to honor someone who has dedicated his life to serve this country: Justice Stephen Breyer—an Army veteran, Constitutional scholar, and retiring Justice of the United States Supreme Court. Justice Breyer, thank you for your service. \n",
      "\n",
      "One of the most serious constitutional responsibilities a President has is nominating someone to serve on the United States Supreme Court. \n",
      "\n",
      "And I did that 4 days ago, when I nominated Circuit Court of Appeals Judge Ketanji Brown Jackson. One of our nation’s top legal minds, who will continue Justice Breyer’s legacy of excellence.\n",
      "Score: 0.032786883413791656\n",
      "Caption: And I did that 4 days ago, when I nominated Circuit Court of Appeals Judge<em> Ketanji Brown Jackson.</em> One of our nation’s top legal minds, who will continue Justice Breyer’s legacy of excellence.. {\"source\": \"state_of_the_union.txt\"}. Tonight. I call on the Senate to: Pass the Freedom to Vote Act. Pass the John Lewis Voting Rights Act.\n",
      "--------------------------------------------------------------------------------\n",
      "Content: We’re going after the criminals who stole billions in relief money meant for small businesses and millions of Americans.  \n",
      "\n",
      "And tonight, I’m announcing that the Justice Department will name a chief prosecutor for pandemic fraud. \n",
      "\n",
      "By the end of this year, the deficit will be down to less than half what it was before I took office.  \n",
      "\n",
      "The only president ever to cut the deficit by more than one trillion dollars in a single year. \n",
      "\n",
      "Lowering your costs also means demanding more competition. \n",
      "\n",
      "I’m a capitalist, but capitalism without competition isn’t capitalism. \n",
      "\n",
      "It’s exploitation—and it drives up prices. \n",
      "\n",
      "When corporations don’t have to compete, their profits go up, your prices go up, and small businesses and family farmers and ranchers go under. \n",
      "\n",
      "We see it happening with ocean carriers moving goods in and out of America. \n",
      "\n",
      "During the pandemic, these foreign-owned companies raised prices by as much as 1,000% and made record profits.\n",
      "Score: 0.02765064872801304\n",
      "Caption: The only president ever to cut the deficit by more than one trillion dollars in a single year. Lowering your costs also means demanding more competition. I’m a capitalist, but capitalism without competition isn’t capitalism. It’s exploitation—and it drives up prices.\n"
     ]
    }
   ],
   "source": [
    "# Perform a hybrid search with semantic reranking  \n",
    "docs_and_scores = vector_store.semantic_hybrid_search_with_score(  \n",
    "    query=\"What did the president say about Ketanji Brown Jackson\",  \n",
    "    k=3,  \n",
    ")  \n",
    "  \n",
    "# Print the results  \n",
    "for doc, score in docs_and_scores:  \n",
    "    print(\"-\" * 80)  \n",
    "    answers = doc.metadata['answers']  \n",
    "    if answers:  \n",
    "        if answers.get('highlights'):  \n",
    "            print(f\"Semantic Answer: {answers['highlights']}\")  \n",
    "        else:  \n",
    "            print(f\"Semantic Answer: {answers['text']}\")  \n",
    "        print(f\"Semantic Answer Score: {score}\")  \n",
    "    print(\"Content:\", doc.page_content)  \n",
    "    captions = doc.metadata['captions']\n",
    "    print(f\"Score: {score}\") \n",
    "    if captions:  \n",
    "        if captions.get('highlights'):  \n",
    "            print(f\"Caption: {captions['highlights']}\")  \n",
    "        else:  \n",
    "            print(f\"Caption: {captions['text']}\")  \n",
    "    else:  \n",
    "        print(\"Caption not available\")  "
   ]
  },
  {
   "cell_type": "code",
   "execution_count": null,
   "id": "3c082edb-db86-457c-adae-bd8acfe9bf7a",
   "metadata": {},
   "outputs": [],
   "source": []
  },
  {
   "cell_type": "code",
   "execution_count": null,
   "id": "2cc830a2-8240-423e-8af3-0738aad7f212",
   "metadata": {},
   "outputs": [],
   "source": []
  }
 ],
 "metadata": {
  "kernelspec": {
   "display_name": "env_py11",
   "language": "python",
   "name": "env_py11"
  },
  "language_info": {
   "codemirror_mode": {
    "name": "ipython",
    "version": 3
   },
   "file_extension": ".py",
   "mimetype": "text/x-python",
   "name": "python",
   "nbconvert_exporter": "python",
   "pygments_lexer": "ipython3",
   "version": "3.11.5"
  }
 },
 "nbformat": 4,
 "nbformat_minor": 5
}
